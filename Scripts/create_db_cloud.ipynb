{
 "cells": [
  {
   "cell_type": "code",
   "execution_count": 1,
   "metadata": {},
   "outputs": [],
   "source": [
    "# Import packages\n",
    "\n",
    "from pathlib import Path\n",
    "import pandas as pd\n",
    "import pyodbc\n",
    "from sqlalchemy import create_engine\n",
    "from sqlalchemy.ext.declarative import declarative_base\n",
    "from sqlalchemy import Column, Float, String, Integer, Boolean, Date\n",
    "from sqlalchemy.orm import sessionmaker"
   ]
  },
  {
   "cell_type": "code",
   "execution_count": 8,
   "metadata": {},
   "outputs": [
    {
     "ename": "ImportError",
     "evalue": "cannot import name 'connection_string' from 'api_keys' (c:\\Users\\Brecht Nys\\OneDrive\\Desktop\\Brecht\\RealEstateTracker\\buy-to-let-tracker\\Scripts\\api_keys.py)",
     "output_type": "error",
     "traceback": [
      "\u001b[1;31m---------------------------------------------------------------------------\u001b[0m",
      "\u001b[1;31mImportError\u001b[0m                               Traceback (most recent call last)",
      "Cell \u001b[1;32mIn[8], line 7\u001b[0m\n\u001b[0;32m      5\u001b[0m \u001b[39mfrom\u001b[39;00m \u001b[39mapi_keys\u001b[39;00m \u001b[39mimport\u001b[39;00m username\n\u001b[0;32m      6\u001b[0m \u001b[39mfrom\u001b[39;00m \u001b[39mapi_keys\u001b[39;00m \u001b[39mimport\u001b[39;00m password\n\u001b[1;32m----> 7\u001b[0m \u001b[39mfrom\u001b[39;00m \u001b[39mapi_keys\u001b[39;00m \u001b[39mimport\u001b[39;00m connection_string\n",
      "\u001b[1;31mImportError\u001b[0m: cannot import name 'connection_string' from 'api_keys' (c:\\Users\\Brecht Nys\\OneDrive\\Desktop\\Brecht\\RealEstateTracker\\buy-to-let-tracker\\Scripts\\api_keys.py)"
     ]
    }
   ],
   "source": [
    "# Retrieve SQL key\n",
    "\n",
    "from api_keys import server_name\n",
    "from api_keys import database_name\n",
    "from api_keys import username\n",
    "from api_keys import password\n",
    "from api_keys import connection_string"
   ]
  },
  {
   "cell_type": "code",
   "execution_count": 3,
   "metadata": {},
   "outputs": [
    {
     "ename": "TypeError",
     "evalue": "unsupported operand type(s) for &: 'str' and 'str'",
     "output_type": "error",
     "traceback": [
      "\u001b[1;31m---------------------------------------------------------------------------\u001b[0m",
      "\u001b[1;31mTypeError\u001b[0m                                 Traceback (most recent call last)",
      "Cell \u001b[1;32mIn[3], line 5\u001b[0m\n\u001b[0;32m      1\u001b[0m \u001b[39m# Connect to Database\u001b[39;00m\n\u001b[0;32m      2\u001b[0m \n\u001b[0;32m      3\u001b[0m \u001b[39m## Connection String\u001b[39;00m\n\u001b[1;32m----> 5\u001b[0m connection_string \u001b[39m=\u001b[39m \u001b[39m\"\u001b[39;49m\u001b[39mDRIVER=\u001b[39;49m\u001b[39m{\u001b[39;49m\u001b[39mODBC Driver 17 for SQL Server};SERVER=\u001b[39;49m\u001b[39m{\u001b[39;49m\u001b[39m\"\u001b[39;49m \u001b[39m&\u001b[39;49m server_name \u001b[39m&\u001b[39m \u001b[39m\"\u001b[39m\u001b[39m};DATABASE=\u001b[39m\u001b[39m{\u001b[39m\u001b[39m\"\u001b[39m \u001b[39m&\u001b[39m database_name \u001b[39m&\u001b[39m \u001b[39m\"\u001b[39m\u001b[39m};UID=\u001b[39m\u001b[39m{\u001b[39m\u001b[39m\"\u001b[39m \u001b[39m&\u001b[39m username \u001b[39m&\u001b[39m \u001b[39m\"\u001b[39m\u001b[39m};PWD=\u001b[39m\u001b[39m{\u001b[39m\u001b[39m\"\u001b[39m \u001b[39m&\u001b[39m password \u001b[39m&\u001b[39m \u001b[39m\"\u001b[39m\u001b[39m}\u001b[39m\u001b[39m\"\u001b[39m\n\u001b[0;32m      7\u001b[0m \u001b[39m## Try to establish connection\u001b[39;00m\n\u001b[0;32m      8\u001b[0m \u001b[39mtry\u001b[39;00m:\n",
      "\u001b[1;31mTypeError\u001b[0m: unsupported operand type(s) for &: 'str' and 'str'"
     ]
    }
   ],
   "source": [
    "# Connect to Database\n",
    "\n",
    "try:\n",
    "    connection = pyodbc.connect(connection_string)\n",
    "    print(\"Connected to Azure SQL Database\")\n",
    "\n",
    "except Exception as e:\n",
    "    print(\"Connection failed:\", e)\n"
   ]
  },
  {
   "cell_type": "code",
   "execution_count": 2,
   "metadata": {},
   "outputs": [
    {
     "name": "stderr",
     "output_type": "stream",
     "text": [
      "C:\\Users\\Brecht Nys\\AppData\\Local\\Temp\\ipykernel_2684\\2054927280.py:3: MovedIn20Warning: The ``declarative_base()`` function is now available as sqlalchemy.orm.declarative_base(). (deprecated since: 2.0) (Background on SQLAlchemy 2.0 at: https://sqlalche.me/e/b8d9)\n",
      "  base = declarative_base()\n"
     ]
    }
   ],
   "source": [
    "# Create table\n",
    "\n",
    "base = declarative_base()\n",
    "\n",
    "## Idealista Rental Data\n",
    "\n",
    "class propertyRent(base):\n",
    "    __tablename__ = \"propertyRent\"\n",
    "\n",
    "    propertyCode = Column(Float, primary_key = True)\n",
    "    searchType = Column(String(30))\n",
    "    propertyType = Column(String(30))\n",
    "    address = Column(String(100))\n",
    "    municipality = Column(String(30))\n",
    "    country = Column(String(30))\n",
    "    latitude = Column(Float)\n",
    "    longitude = Column(Float)\n",
    "    bathrooms = Column(Float)\n",
    "    bedrooms = Column(Float)\n",
    "    size = Column(Float)\n",
    "    status = Column(String(30))\n",
    "    floor = Column(String(30))\n",
    "    hasLift = Column(Boolean)\n",
    "    newDevelopment = Column(Boolean)\n",
    "    newProperty = Column(Boolean)\n",
    "    epc = Column(String(30))\n",
    "    price = Column(Float)\n",
    "    url = Column(String(100))\n",
    "    image = Column(String(100))\n",
    "\n",
    "\n",
    "\n",
    "## Idealista Purchase Data\n",
    "\n",
    "class propertyPurchase(base):\n",
    "    __tablename__ = \"propertyPurchase\"\n",
    "\n",
    "    propertyCode = Column(Float, primary_key = True)\n",
    "    searchType = Column(String(30))\n",
    "    propertyType = Column(String(30))\n",
    "    description = Column(String(5000))\n",
    "    address = Column(String(100))\n",
    "    municipality = Column(String(30))\n",
    "    country = Column(String(30))\n",
    "    latitude = Column(Float)\n",
    "    longitude = Column(Float)\n",
    "    bathrooms = Column(Float)\n",
    "    bedrooms = Column(Float)\n",
    "    size = Column(Float)\n",
    "    status = Column(String(30))\n",
    "    floor = Column(String(30))\n",
    "    hasLift = Column(Boolean)\n",
    "    newDevelopment = Column(Boolean)\n",
    "    newProperty = Column(Boolean)\n",
    "    epc = Column(String(30))\n",
    "    price = Column(Float)\n",
    "    url = Column(String(100))\n",
    "    image = Column(String(100))\n",
    "\n",
    "\n",
    "## Enriched Property Data\n",
    "\n",
    "class propertyEnriched(base):\n",
    "    __tablename__ = \"propertyEnriched\"\n",
    "\n",
    "    propertyCode = Column(Float, primary_key = True)\n",
    "    propertyType = Column(String(30))\n",
    "    description = Column(String(500))\n",
    "    address = Column(String(100))\n",
    "    municipality = Column(String(30))\n",
    "    country = Column(String(30))\n",
    "    lat = Column(Float)\n",
    "    lon = Column(Float)\n",
    "    bathrooms = Column(Float)\n",
    "    bedrooms = Column(Float)\n",
    "    size = Column(Float)\n",
    "    status = Column(String(30))\n",
    "    floor = Column(String(30))\n",
    "    hasLift = Column(Boolean)\n",
    "    newDevelopment = Column(Boolean)\n",
    "    epc = Column(String(30))\n",
    "    price = Column(Float)\n",
    "    predictedRentPrice = Column(Float)\n",
    "    url = Column(String(100))\n",
    "    image = Column(String(100))\n",
    "\n",
    "\n",
    "## Comparison Property Data\n",
    "\n",
    "class propertyComp(base):\n",
    "    __tablename__ = \"propertyComp\"\n",
    "\n",
    "    propertyCode = Column(Float, primary_key = True)\n",
    "    propertyCodeComp = Column(Float, primary_key = True)\n",
    "    propertyTypeComp = Column(String(30))\n",
    "    latComp = Column(Float)\n",
    "    lonComp = Column(Float)\n",
    "    bathroomsComp = Column(Float)\n",
    "    bedroomsComp = Column(Float)\n",
    "    sizeComp = Column(Float)\n",
    "    statusComp = Column(String(30))\n",
    "    floorComp = Column(String(30))\n",
    "    hasLiftComp = Column(Boolean)\n",
    "    epcComp = Column(String(30))\n",
    "    monthlyRentalPriceLtComp = Column(Float)\n",
    "    urlComp = Column(String(100))\n",
    "    imageComp = Column(String(100))\n",
    "\n",
    "\n",
    "## Historical Data\n",
    "\n",
    "class propertyHistorical(base):\n",
    "    __tablename__ = \"propertyHistorical\"\n",
    "\n",
    "    city = Column(String(30), primary_key = True)\n",
    "    attribute = Column(String(30), primary_key = True)\n",
    "    date = Column(Date, primary_key = True)\n",
    "    zeroBedroom = Column(Float)\n",
    "    oneBedroom = Column(Float)\n",
    "    twoBedroom = Column(Float)\n",
    "    threeBedroom = Column(Float)\n",
    "    fourBedroom = Column(Float)\n",
    "    fiveBedroom = Column(Float)\n",
    "    moreThanFiveBedroom = Column(Float)\n",
    "    twentyFive = Column(Float)\n",
    "    fifty = Column(Float)\n",
    "    seventyFive = Column(Float)\n",
    "    hundred = Column(Float)\n",
    "    hundredFifty = Column(Float)\n",
    "    twoHundred = Column(Float)\n",
    "    moreThanTwoHundred = Column(Float)\n"
   ]
  },
  {
   "cell_type": "code",
   "execution_count": 3,
   "metadata": {},
   "outputs": [],
   "source": [
    "# Connect to db\n",
    "\n",
    "engine = create_engine(\"sqlite:///../Dataset/real_estate_data.sqlite\")\n",
    "conn = engine.connect()\n"
   ]
  },
  {
   "cell_type": "code",
   "execution_count": 4,
   "metadata": {},
   "outputs": [],
   "source": [
    "# Create session\n",
    "\n",
    "base.metadata.create_all(engine)\n",
    "Session = sessionmaker(bind = engine)\n",
    "session = Session()\n"
   ]
  },
  {
   "cell_type": "code",
   "execution_count": 5,
   "metadata": {},
   "outputs": [],
   "source": [
    "# Close session\n",
    "\n",
    "session.close()"
   ]
  },
  {
   "cell_type": "code",
   "execution_count": null,
   "metadata": {},
   "outputs": [],
   "source": []
  }
 ],
 "metadata": {
  "kernelspec": {
   "display_name": "Python 3",
   "language": "python",
   "name": "python3"
  },
  "language_info": {
   "codemirror_mode": {
    "name": "ipython",
    "version": 3
   },
   "file_extension": ".py",
   "mimetype": "text/x-python",
   "name": "python",
   "nbconvert_exporter": "python",
   "pygments_lexer": "ipython3",
   "version": "3.11.4"
  },
  "orig_nbformat": 4
 },
 "nbformat": 4,
 "nbformat_minor": 2
}
