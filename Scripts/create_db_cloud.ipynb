{
 "cells": [
  {
   "cell_type": "code",
   "execution_count": 1,
   "metadata": {},
   "outputs": [],
   "source": [
    "# Import packages\n",
    "\n",
    "from pathlib import Path\n",
    "import pandas as pd\n",
    "import pyodbc\n"
   ]
  },
  {
   "cell_type": "code",
   "execution_count": 2,
   "metadata": {},
   "outputs": [],
   "source": [
    "# Retrieve SQL key\n",
    "\n",
    "from api_keys import server_name, database_name, user_name, password"
   ]
  },
  {
   "cell_type": "code",
   "execution_count": 5,
   "metadata": {},
   "outputs": [
    {
     "name": "stdout",
     "output_type": "stream",
     "text": [
      "Connected to Azure SQL Database\n"
     ]
    }
   ],
   "source": [
    "# Connect to Database\n",
    "\n",
    "## Create connection string\n",
    "\n",
    "connection_string = \"DRIVER={ODBC Driver 18 for SQL Server};SERVER={\"+ server_name + \"};DATABASE={\" + database_name + \"};UID={\" + user_name + \"};PWD={\" + password + \"}\"\n",
    "\n",
    "\n",
    "## Try to establish a connection\n",
    "\n",
    "try:\n",
    "    connection = pyodbc.connect(connection_string)\n",
    "    cursor = connection.cursor()\n",
    "    print(\"Connected to Azure SQL Database\")\n",
    "\n",
    "except Exception as e:\n",
    "    print(\"Connection failed:\", e)\n"
   ]
  },
  {
   "cell_type": "code",
   "execution_count": 23,
   "metadata": {},
   "outputs": [
    {
     "name": "stdout",
     "output_type": "stream",
     "text": [
      "Table 'rawPropertyRentData' deleted successfully\n",
      "Table 'rawPropertyPurchaseData' deleted successfully\n",
      "Table 'enrichedPropertyData' deleted successfully\n",
      "Table 'comparisonPropertyData' deleted successfully\n",
      "Table 'historicalPropertyData' deleted successfully\n"
     ]
    }
   ],
   "source": [
    "# Delete tables\n",
    "\n",
    "table_names = [\"rawPropertyRentData\", \"rawPropertyPurchaseData\",\n",
    "               \"enrichedPropertyData\", \"comparisonPropertyData\",\n",
    "               \"historicalPurchaseData\", \"historicalRentData\"]\n",
    "\n",
    "for table_name in table_names:\n",
    "    \n",
    "    try:\n",
    "        cursor.execute(f\"SELECT 1 FROM INFORMATION_SCHEMA.TABLES WHERE TABLE_NAME = '{table_name}'\")\n",
    "        table_exists = cursor.fetchone()\n",
    "        \n",
    "        if table_exists:\n",
    "            cursor = connection.cursor()\n",
    "            cursor.execute(f\"DROP TABLE {table_name}\")\n",
    "            print(f\"Table '{table_name}' deleted successfully\")\n",
    "            connection.commit()\n",
    "        \n",
    "    except Exception as e:\n",
    "        print(f\"Error dropping tables: {e}\")"
   ]
  },
  {
   "cell_type": "code",
   "execution_count": 24,
   "metadata": {},
   "outputs": [
    {
     "name": "stdout",
     "output_type": "stream",
     "text": [
      "Table created successfully\n"
     ]
    }
   ],
   "source": [
    "# Create Raw Rental Data Table\n",
    "\n",
    "sql_query = \"\"\"\n",
    "    CREATE TABLE rawPropertyRentData (\n",
    "        propertyCode FLOAT PRIMARY KEY,\n",
    "        searchType VARCHAR(30),\n",
    "        propertyType VARCHAR(30),\n",
    "        address VARCHAR(100),\n",
    "        municipality VARCHAR(30),\n",
    "        country VARCHAR(30),\n",
    "        latitude FLOAT,\n",
    "        longitude FLOAT,\n",
    "        bathrooms FLOAT,\n",
    "        bedrooms FLOAT,\n",
    "        size FLOAT,\n",
    "        status VARCHAR(30),\n",
    "        floor VARCHAR(30),\n",
    "        hasLift BIT,\n",
    "        newDevelopment BIT,\n",
    "        newProperty BIT,\n",
    "        epc VARCHAR(30),\n",
    "        monthlyRent FLOAT,\n",
    "        url VARCHAR(100),\n",
    "        image VARCHAR(100)\n",
    "    );\n",
    "    \"\"\"\n",
    "try:\n",
    "    # Execute the SQL query to create the table\n",
    "    cursor = connection.cursor()\n",
    "    cursor.execute(sql_query)\n",
    "    cursor.commit()\n",
    "\n",
    "    print(\"Table created successfully\")\n",
    "\n",
    "except Exception as e:\n",
    "    print(\"Connection failed:\", e)"
   ]
  },
  {
   "cell_type": "code",
   "execution_count": 25,
   "metadata": {},
   "outputs": [
    {
     "name": "stdout",
     "output_type": "stream",
     "text": [
      "Table created successfully\n"
     ]
    }
   ],
   "source": [
    "# Create Raw Purchase Data Table\n",
    "\n",
    "sql_query = \"\"\"\n",
    "    CREATE TABLE rawPropertyPurchaseData (\n",
    "        propertyCode FLOAT PRIMARY KEY,\n",
    "        searchType VARCHAR(30),\n",
    "        propertyType VARCHAR(30),\n",
    "        description VARCHAR(5000),\n",
    "        address VARCHAR(100),\n",
    "        municipality VARCHAR(30),\n",
    "        country VARCHAR(30),\n",
    "        latitude FLOAT,\n",
    "        longitude FLOAT,\n",
    "        bathrooms FLOAT,\n",
    "        bedrooms FLOAT,\n",
    "        size FLOAT,\n",
    "        status VARCHAR(30),\n",
    "        floor VARCHAR(30),\n",
    "        hasLift BIT,\n",
    "        newDevelopment BIT,\n",
    "        newProperty BIT,\n",
    "        epc VARCHAR(30),\n",
    "        purchasePrice FLOAT,\n",
    "        url VARCHAR(100),\n",
    "        image VARCHAR(100)\n",
    "    );\n",
    "    \"\"\"\n",
    "try:\n",
    "    # Execute the SQL query to create the table\n",
    "    cursor = connection.cursor()\n",
    "    cursor.execute(sql_query)\n",
    "    cursor.commit()\n",
    "\n",
    "    print(\"Table created successfully\")\n",
    "\n",
    "except Exception as e:\n",
    "    print(\"Connection failed:\", e)"
   ]
  },
  {
   "cell_type": "code",
   "execution_count": 26,
   "metadata": {},
   "outputs": [
    {
     "name": "stdout",
     "output_type": "stream",
     "text": [
      "Table created successfully\n"
     ]
    }
   ],
   "source": [
    "# Create Enriched Purchase Data Table\n",
    "\n",
    "sql_query = \"\"\"\n",
    "    CREATE TABLE enrichedPropertyData (\n",
    "        propertyCode FLOAT PRIMARY KEY,\n",
    "        propertyType VARCHAR(30),\n",
    "        description VARCHAR(5000),\n",
    "        address VARCHAR(100),\n",
    "        municipality VARCHAR(30),\n",
    "        country VARCHAR(30),\n",
    "        latitude FLOAT,\n",
    "        longitude FLOAT,\n",
    "        bathrooms FLOAT,\n",
    "        bedrooms FLOAT,\n",
    "        size FLOAT,\n",
    "        status VARCHAR(30),\n",
    "        floor VARCHAR(30),\n",
    "        hasLift BIT,\n",
    "        newDevelopment BIT,\n",
    "        newProperty BIT,\n",
    "        epc VARCHAR(30),\n",
    "        purchasePrice FLOAT,\n",
    "        predictedMonthlyRent FLOAT,\n",
    "        url VARCHAR(100),\n",
    "        image VARCHAR(100)\n",
    "    );\n",
    "    \"\"\"\n",
    "try:\n",
    "    # Execute the SQL query to create the table\n",
    "    cursor = connection.cursor()\n",
    "    cursor.execute(sql_query)\n",
    "    cursor.commit()\n",
    "\n",
    "    print(\"Table created successfully\")\n",
    "\n",
    "except Exception as e:\n",
    "    print(\"Connection failed:\", e)"
   ]
  },
  {
   "cell_type": "code",
   "execution_count": 27,
   "metadata": {},
   "outputs": [
    {
     "name": "stdout",
     "output_type": "stream",
     "text": [
      "Table created successfully\n"
     ]
    }
   ],
   "source": [
    "# Create Comparison Property Data Table\n",
    "\n",
    "sql_query = \"\"\"\n",
    "    CREATE TABLE comparisonPropertyData (\n",
    "        propertyCodeMain FLOAT,\n",
    "        propertyCodeComp FLOAT,\n",
    "        PRIMARY KEY (propertyCodeMain, propertyCodeComp),\n",
    "        propertyType VARCHAR(30),\n",
    "        address VARCHAR(100),\n",
    "        municipality VARCHAR(30),\n",
    "        country VARCHAR(30),\n",
    "        latitude FLOAT,\n",
    "        longitude FLOAT,\n",
    "        bathrooms FLOAT,\n",
    "        bedrooms FLOAT,\n",
    "        size FLOAT,\n",
    "        status VARCHAR(30),\n",
    "        floor VARCHAR(30),\n",
    "        hasLift BIT,\n",
    "        newDevelopment BIT,\n",
    "        newProperty BIT,\n",
    "        epc VARCHAR(30),\n",
    "        monthlyRent FLOAT,\n",
    "        url VARCHAR(100),\n",
    "        image VARCHAR(100)\n",
    "    );\n",
    "    \"\"\"\n",
    "try:\n",
    "    # Execute the SQL query to create the table\n",
    "    cursor = connection.cursor()\n",
    "    cursor.execute(sql_query)\n",
    "    cursor.commit()\n",
    "\n",
    "    print(\"Table created successfully\")\n",
    "\n",
    "except Exception as e:\n",
    "    print(\"Connection failed:\", e)"
   ]
  },
  {
   "cell_type": "code",
   "execution_count": 7,
   "metadata": {},
   "outputs": [
    {
     "name": "stdout",
     "output_type": "stream",
     "text": [
      "Table created successfully\n"
     ]
    }
   ],
   "source": [
    "# Create Historical Purchase Data Table\n",
    "\n",
    "sql_query = \"\"\"\n",
    "    CREATE TABLE historicalPurchaseData (\n",
    "        city VARCHAR(30),\n",
    "        attribute VARCHAR(30),\n",
    "        date DATE,\n",
    "        PRIMARY KEY (city, attribute, date),\n",
    "        zeroBedroom FLOAT,\n",
    "        oneBedroom FLOAT,\n",
    "        twoBedroom FLOAT,\n",
    "        threeBedroom FLOAT,\n",
    "        fourBedroom FLOAT,\n",
    "        fiveBedroom FLOAT,\n",
    "        moreThanFiveBedroom FLOAT,\n",
    "        twentyFive FLOAT,\n",
    "        fifty FLOAT,\n",
    "        seventyFive FLOAT,\n",
    "        hundred FLOAT,\n",
    "        hundredFifty FLOAT,\n",
    "        twoHundred FLOAT,\n",
    "        moreThanTwoHundred FLOAT\n",
    "    );\n",
    "    \"\"\"\n",
    "try:\n",
    "    # Execute the SQL query to create the table\n",
    "    cursor = connection.cursor()\n",
    "    cursor.execute(sql_query)\n",
    "    cursor.commit()\n",
    "\n",
    "    print(\"Table created successfully\")\n",
    "\n",
    "except Exception as e:\n",
    "    print(\"Connection failed:\", e)"
   ]
  },
  {
   "cell_type": "code",
   "execution_count": 8,
   "metadata": {},
   "outputs": [
    {
     "name": "stdout",
     "output_type": "stream",
     "text": [
      "Table created successfully\n"
     ]
    }
   ],
   "source": [
    "# Create Historical Rent Data Table\n",
    "\n",
    "sql_query = \"\"\"\n",
    "    CREATE TABLE historicalRentData (\n",
    "        city VARCHAR(30),\n",
    "        attribute VARCHAR(30),\n",
    "        date DATE,\n",
    "        PRIMARY KEY (city, attribute, date),\n",
    "        zeroBedroom FLOAT,\n",
    "        oneBedroom FLOAT,\n",
    "        twoBedroom FLOAT,\n",
    "        threeBedroom FLOAT,\n",
    "        fourBedroom FLOAT,\n",
    "        fiveBedroom FLOAT,\n",
    "        moreThanFiveBedroom FLOAT,\n",
    "        twentyFive FLOAT,\n",
    "        fifty FLOAT,\n",
    "        seventyFive FLOAT,\n",
    "        hundred FLOAT,\n",
    "        hundredFifty FLOAT,\n",
    "        twoHundred FLOAT,\n",
    "        moreThanTwoHundred FLOAT\n",
    "    );\n",
    "    \"\"\"\n",
    "try:\n",
    "    # Execute the SQL query to create the table\n",
    "    cursor = connection.cursor()\n",
    "    cursor.execute(sql_query)\n",
    "    cursor.commit()\n",
    "\n",
    "    print(\"Table created successfully\")\n",
    "\n",
    "except Exception as e:\n",
    "    print(\"Connection failed:\", e)"
   ]
  },
  {
   "cell_type": "code",
   "execution_count": 9,
   "metadata": {},
   "outputs": [],
   "source": [
    "# Close session\n",
    "\n",
    "connection.close()"
   ]
  },
  {
   "cell_type": "code",
   "execution_count": null,
   "metadata": {},
   "outputs": [],
   "source": []
  }
 ],
 "metadata": {
  "kernelspec": {
   "display_name": "Python 3",
   "language": "python",
   "name": "python3"
  },
  "language_info": {
   "codemirror_mode": {
    "name": "ipython",
    "version": 3
   },
   "file_extension": ".py",
   "mimetype": "text/x-python",
   "name": "python",
   "nbconvert_exporter": "python",
   "pygments_lexer": "ipython3",
   "version": "3.11.4"
  },
  "orig_nbformat": 4
 },
 "nbformat": 4,
 "nbformat_minor": 2
}
