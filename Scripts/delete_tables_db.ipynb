{
 "cells": [
  {
   "cell_type": "code",
   "execution_count": 5,
   "metadata": {},
   "outputs": [],
   "source": [
    "# Import packages\n",
    "\n",
    "from sqlalchemy import create_engine, MetaData"
   ]
  },
  {
   "cell_type": "code",
   "execution_count": 2,
   "metadata": {},
   "outputs": [],
   "source": [
    "table_names = [\"rawPropertyRentData\", \n",
    "               \"rawPropertyPurchaseData\", \n",
    "               \"enrichedPropertyData\", \n",
    "               \"comparisonPropertyData\", \n",
    "               \"historicalPurchaseData\",\n",
    "               \"historicalRentData\"]"
   ]
  },
  {
   "cell_type": "code",
   "execution_count": 6,
   "metadata": {},
   "outputs": [
    {
     "name": "stdout",
     "output_type": "stream",
     "text": [
      "Table dropped\n",
      "Table dropped\n",
      "Table dropped\n",
      "Table dropped\n",
      "Table dropped\n",
      "Table dropped\n"
     ]
    }
   ],
   "source": [
    "# Delete tables\n",
    "\n",
    "table_names = [\"rawPropertyRentData\", \n",
    "               \"rawPropertyPurchaseData\", \n",
    "               \"enrichedPropertyData\", \n",
    "               \"comparisonPropertyData\", \n",
    "               \"historicalPurchaseData\",\n",
    "               \"historicalRentData\"]\n",
    "\n",
    "engine = create_engine(\"sqlite:///../Dataset/real_estate_data.sqlite\")\n",
    "\n",
    "metadata = MetaData()\n",
    "metadata.reflect(bind = engine)\n",
    "\n",
    "for table_name in table_names:\n",
    "    table = metadata.tables.get(table_name)\n",
    "\n",
    "    if table is not None:\n",
    "        table.drop(engine)\n",
    "        print(\"Table dropped\")\n",
    "    else:\n",
    "        print(\"Table doesn't exist\")\n",
    "\n",
    "    engine.dispose()"
   ]
  },
  {
   "cell_type": "code",
   "execution_count": null,
   "metadata": {},
   "outputs": [],
   "source": []
  }
 ],
 "metadata": {
  "kernelspec": {
   "display_name": "Python 3",
   "language": "python",
   "name": "python3"
  },
  "language_info": {
   "codemirror_mode": {
    "name": "ipython",
    "version": 3
   },
   "file_extension": ".py",
   "mimetype": "text/x-python",
   "name": "python",
   "nbconvert_exporter": "python",
   "pygments_lexer": "ipython3",
   "version": "3.11.4"
  },
  "orig_nbformat": 4
 },
 "nbformat": 4,
 "nbformat_minor": 2
}
