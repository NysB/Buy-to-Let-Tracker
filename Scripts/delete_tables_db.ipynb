{
 "cells": [
  {
   "cell_type": "code",
   "execution_count": 1,
   "metadata": {},
   "outputs": [],
   "source": [
    "# Import packages\n",
    "\n",
    "from sqlalchemy import create_engine, MetaData\n"
   ]
  },
  {
   "cell_type": "code",
   "execution_count": 2,
   "metadata": {},
   "outputs": [],
   "source": [
    "# Delete tables\n",
    "\n",
    "table_name = \"propertyComp\"\n",
    "\n",
    "engine = create_engine(\"sqlite:///../Dataset/real_estate_data.sqlite\")\n",
    "\n",
    "metadata = MetaData()\n",
    "metadata.reflect(bind = engine)\n",
    "\n",
    "table = metadata.tables.get(table_name)\n",
    "\n",
    "if table is not None:\n",
    "    table.drop(engine)\n",
    "else:\n",
    "    print(\"Table doesn't exist\")\n",
    "\n",
    "engine.dispose()\n",
    "\n"
   ]
  },
  {
   "cell_type": "code",
   "execution_count": null,
   "metadata": {},
   "outputs": [],
   "source": []
  }
 ],
 "metadata": {
  "kernelspec": {
   "display_name": "Python 3",
   "language": "python",
   "name": "python3"
  },
  "language_info": {
   "codemirror_mode": {
    "name": "ipython",
    "version": 3
   },
   "file_extension": ".py",
   "mimetype": "text/x-python",
   "name": "python",
   "nbconvert_exporter": "python",
   "pygments_lexer": "ipython3",
   "version": "3.11.4"
  },
  "orig_nbformat": 4
 },
 "nbformat": 4,
 "nbformat_minor": 2
}
